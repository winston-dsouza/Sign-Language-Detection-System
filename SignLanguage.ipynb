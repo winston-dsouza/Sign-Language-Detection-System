{
  "nbformat": 4,
  "nbformat_minor": 0,
  "metadata": {
    "colab": {
      "name": "SignLanguage.ipynb",
      "provenance": [],
      "collapsed_sections": [],
      "authorship_tag": "ABX9TyMDE41sywgSf5QSkkHrDdKD",
      "include_colab_link": true
    },
    "kernelspec": {
      "name": "python3",
      "display_name": "Python 3"
    },
    "accelerator": "GPU"
  },
  "cells": [
    {
      "cell_type": "markdown",
      "metadata": {
        "id": "view-in-github",
        "colab_type": "text"
      },
      "source": [
        "<a href=\"https://colab.research.google.com/github/winston-dsouza/Sign-Language-Detection-System/blob/master/SignLanguage.ipynb\" target=\"_parent\"><img src=\"https://colab.research.google.com/assets/colab-badge.svg\" alt=\"Open In Colab\"/></a>"
      ]
    },
    {
      "cell_type": "code",
      "metadata": {
        "id": "aa3iad5byDrP",
        "colab_type": "code",
        "colab": {}
      },
      "source": [
        "import tensorflow as tf"
      ],
      "execution_count": 0,
      "outputs": []
    },
    {
      "cell_type": "code",
      "metadata": {
        "id": "vS2Of0xwzQSA",
        "colab_type": "code",
        "outputId": "acab42b4-4ff2-4438-cdeb-275ba9dac8c1",
        "colab": {
          "base_uri": "https://localhost:8080/",
          "height": 34
        }
      },
      "source": [
        "tf.__version__"
      ],
      "execution_count": 0,
      "outputs": [
        {
          "output_type": "execute_result",
          "data": {
            "text/plain": [
              "'2.2.0-rc4'"
            ]
          },
          "metadata": {
            "tags": []
          },
          "execution_count": 2
        }
      ]
    },
    {
      "cell_type": "code",
      "metadata": {
        "id": "x6l03XmDzgNW",
        "colab_type": "code",
        "outputId": "6ad19349-5169-4952-e590-026b7600664e",
        "colab": {
          "base_uri": "https://localhost:8080/",
          "height": 122
        }
      },
      "source": [
        "from google.colab import drive\n",
        "drive.mount('/content/drive')"
      ],
      "execution_count": 0,
      "outputs": [
        {
          "output_type": "stream",
          "text": [
            "Go to this URL in a browser: https://accounts.google.com/o/oauth2/auth?client_id=947318989803-6bn6qk8qdgf4n4g3pfee6491hc0brc4i.apps.googleusercontent.com&redirect_uri=urn%3aietf%3awg%3aoauth%3a2.0%3aoob&response_type=code&scope=email%20https%3a%2f%2fwww.googleapis.com%2fauth%2fdocs.test%20https%3a%2f%2fwww.googleapis.com%2fauth%2fdrive%20https%3a%2f%2fwww.googleapis.com%2fauth%2fdrive.photos.readonly%20https%3a%2f%2fwww.googleapis.com%2fauth%2fpeopleapi.readonly\n",
            "\n",
            "Enter your authorization code:\n",
            "··········\n",
            "Mounted at /content/drive\n"
          ],
          "name": "stdout"
        }
      ]
    },
    {
      "cell_type": "code",
      "metadata": {
        "id": "NSsDGT6I0qNs",
        "colab_type": "code",
        "colab": {}
      },
      "source": [
        "from tensorflow.keras import optimizers\n",
        "from tensorflow.keras.models import Sequential\n",
        "from tensorflow.keras.layers import Dense, Conv2D, MaxPool2D, Flatten,Dropout"
      ],
      "execution_count": 0,
      "outputs": []
    },
    {
      "cell_type": "code",
      "metadata": {
        "id": "vLW3UJjV3ilt",
        "colab_type": "code",
        "colab": {}
      },
      "source": [
        "# Initialing the CNN\n",
        "classifier = Sequential()\n",
        "\n",
        "# Step 1 - Convolutio Layer \n",
        "classifier.add(Conv2D(filters=32,  kernel_size=(3,3), input_shape = (64, 64, 3), activation = 'relu'))\n",
        "\n",
        "#step 2 - Pooling\n",
        "classifier.add(MaxPool2D(pool_size =(2,2)))\n",
        "\n",
        "# Adding second convolution layer\n",
        "classifier.add(Conv2D(filters=32,  kernel_size=(3,3), activation = 'relu'))\n",
        "classifier.add(MaxPool2D(pool_size =(2,2)))\n",
        "\n",
        "#Adding 3rd Concolution Layer\n",
        "classifier.add(Conv2D(filters=64,  kernel_size=(3,3), activation = 'relu'))\n",
        "classifier.add(MaxPool2D(pool_size =(2,2)))\n",
        "\n",
        "\n",
        "#Step 3 - Flattening\n",
        "classifier.add(Flatten())\n",
        "\n",
        "#Step 4 - Full Connection\n",
        "classifier.add(Dense(256, activation = 'relu'))\n",
        "classifier.add(Dropout(0.5))\n",
        "classifier.add(Dense(26, activation = 'softmax'))\n",
        "\n",
        "#Compiling The CNN\n",
        "classifier.compile(\n",
        "              optimizer = optimizers.SGD(lr = 0.01),\n",
        "              loss = 'categorical_crossentropy',\n",
        "              metrics = ['accuracy'])"
      ],
      "execution_count": 0,
      "outputs": []
    },
    {
      "cell_type": "code",
      "metadata": {
        "id": "DVckeN1d6Bg2",
        "colab_type": "code",
        "colab": {}
      },
      "source": [
        "from tensorflow.keras.preprocessing.image import ImageDataGenerator\n",
        "train_datagen = ImageDataGenerator(\n",
        "        rescale=1./255,\n",
        "        shear_range=0.2,\n",
        "        zoom_range=0.2,\n",
        "        horizontal_flip=True)\n",
        "\n",
        "test_datagen = ImageDataGenerator(rescale=1./255)"
      ],
      "execution_count": 0,
      "outputs": []
    },
    {
      "cell_type": "code",
      "metadata": {
        "id": "qpN7IZbZiC2H",
        "colab_type": "code",
        "colab": {}
      },
      "source": [
        "import zipfile"
      ],
      "execution_count": 0,
      "outputs": []
    },
    {
      "cell_type": "code",
      "metadata": {
        "id": "XTDtaSd8iQgT",
        "colab_type": "code",
        "colab": {}
      },
      "source": [
        "zip_ref = zipfile.ZipFile(\"/content/drive/My Drive/DatasetBG/mydata.zip\", 'r')\n",
        "zip_ref.extractall(\"/tmp\")\n",
        "zip_ref.close()"
      ],
      "execution_count": 0,
      "outputs": []
    },
    {
      "cell_type": "code",
      "metadata": {
        "id": "1VD9nf6E6Ny6",
        "colab_type": "code",
        "outputId": "cb586104-93d7-4ee7-975a-1de2d85f15ef",
        "colab": {
          "base_uri": "https://localhost:8080/",
          "height": 34
        }
      },
      "source": [
        "training_set = train_datagen.flow_from_directory(\n",
        "        '/tmp/mydata/training_set',\n",
        "        target_size=(64, 64),\n",
        "        batch_size=32,\n",
        "        class_mode='categorical')"
      ],
      "execution_count": 0,
      "outputs": [
        {
          "output_type": "stream",
          "text": [
            "Found 45500 images belonging to 26 classes.\n"
          ],
          "name": "stdout"
        }
      ]
    },
    {
      "cell_type": "code",
      "metadata": {
        "id": "ktsbbaqti2lP",
        "colab_type": "code",
        "outputId": "58f5ce73-0ee5-4a06-f178-caed6d5bce9e",
        "colab": {
          "base_uri": "https://localhost:8080/",
          "height": 34
        }
      },
      "source": [
        "test_set = test_datagen.flow_from_directory(\n",
        "        '/tmp/mydata/test_set',\n",
        "        target_size=(64, 64),\n",
        "        batch_size=32,\n",
        "        class_mode='categorical')"
      ],
      "execution_count": 0,
      "outputs": [
        {
          "output_type": "stream",
          "text": [
            "Found 6500 images belonging to 26 classes.\n"
          ],
          "name": "stdout"
        }
      ]
    },
    {
      "cell_type": "code",
      "metadata": {
        "id": "yjsbpWi2Er2h",
        "colab_type": "code",
        "colab": {}
      },
      "source": [
        "import warnings\n",
        "warnings.filterwarnings('ignore')"
      ],
      "execution_count": 0,
      "outputs": []
    },
    {
      "cell_type": "code",
      "metadata": {
        "id": "DdZz3KVFi6zf",
        "colab_type": "code",
        "outputId": "c804be35-0491-43ca-b127-629c4f0243e5",
        "colab": {
          "base_uri": "https://localhost:8080/",
          "height": 938
        }
      },
      "source": [
        "model = classifier.fit_generator(\n",
        "        training_set,\n",
        "        steps_per_epoch=800,\n",
        "        epochs=25,\n",
        "        validation_data = test_set,\n",
        "        validation_steps = 6500\n",
        "      )"
      ],
      "execution_count": 0,
      "outputs": [
        {
          "output_type": "stream",
          "text": [
            "WARNING:tensorflow:From <ipython-input-13-c1923e8f4720>:6: Model.fit_generator (from tensorflow.python.keras.engine.training) is deprecated and will be removed in a future version.\n",
            "Instructions for updating:\n",
            "Please use Model.fit, which supports generators.\n",
            "Epoch 1/25\n",
            "800/800 [==============================] - 94s 118ms/step - loss: 2.1366 - accuracy: 0.3544 - val_loss: 0.6916 - val_accuracy: 0.7983\n",
            "Epoch 2/25\n",
            "800/800 [==============================] - 92s 115ms/step - loss: 0.7340 - accuracy: 0.7524 - val_loss: 0.2898 - val_accuracy: 0.9154\n",
            "Epoch 3/25\n",
            "800/800 [==============================] - 92s 115ms/step - loss: 0.4477 - accuracy: 0.8450 - val_loss: 0.2129 - val_accuracy: 0.9349\n",
            "Epoch 4/25\n",
            "800/800 [==============================] - 92s 115ms/step - loss: 0.3298 - accuracy: 0.8859 - val_loss: 0.2125 - val_accuracy: 0.9461\n",
            "Epoch 5/25\n",
            "800/800 [==============================] - 92s 115ms/step - loss: 0.2691 - accuracy: 0.9030 - val_loss: 0.1968 - val_accuracy: 0.9472\n",
            "Epoch 6/25\n",
            "800/800 [==============================] - 92s 115ms/step - loss: 0.2358 - accuracy: 0.9180 - val_loss: 0.1434 - val_accuracy: 0.9752\n",
            "Epoch 7/25\n",
            "800/800 [==============================] - 92s 115ms/step - loss: 0.1967 - accuracy: 0.9316 - val_loss: 0.1523 - val_accuracy: 0.9789\n",
            "Epoch 8/25\n",
            "800/800 [==============================] - 92s 115ms/step - loss: 0.1711 - accuracy: 0.9394 - val_loss: 0.1640 - val_accuracy: 0.9701\n",
            "Epoch 9/25\n",
            "800/800 [==============================] - 93s 116ms/step - loss: 0.1606 - accuracy: 0.9439 - val_loss: 0.1142 - val_accuracy: 0.9841\n",
            "Epoch 10/25\n",
            "800/800 [==============================] - 94s 118ms/step - loss: 0.1459 - accuracy: 0.9492 - val_loss: 0.1624 - val_accuracy: 0.9730\n",
            "Epoch 11/25\n",
            "800/800 [==============================] - 94s 118ms/step - loss: 0.1335 - accuracy: 0.9544 - val_loss: 0.1348 - val_accuracy: 0.9817\n",
            "Epoch 12/25\n",
            "800/800 [==============================] - 95s 118ms/step - loss: 0.1185 - accuracy: 0.9576 - val_loss: 0.1555 - val_accuracy: 0.9670\n",
            "Epoch 13/25\n",
            "800/800 [==============================] - 96s 120ms/step - loss: 0.1135 - accuracy: 0.9612 - val_loss: 0.1173 - val_accuracy: 0.9828\n",
            "Epoch 14/25\n",
            "800/800 [==============================] - 95s 119ms/step - loss: 0.1027 - accuracy: 0.9647 - val_loss: 0.1265 - val_accuracy: 0.9832\n",
            "Epoch 15/25\n",
            "800/800 [==============================] - 96s 120ms/step - loss: 0.1018 - accuracy: 0.9644 - val_loss: 0.0971 - val_accuracy: 0.9829\n",
            "Epoch 16/25\n",
            "800/800 [==============================] - 96s 120ms/step - loss: 0.0938 - accuracy: 0.9687 - val_loss: 0.1237 - val_accuracy: 0.9851\n",
            "Epoch 17/25\n",
            "800/800 [==============================] - 94s 117ms/step - loss: 0.0888 - accuracy: 0.9691 - val_loss: 0.1120 - val_accuracy: 0.9786\n",
            "Epoch 18/25\n",
            "800/800 [==============================] - 93s 116ms/step - loss: 0.0841 - accuracy: 0.9715 - val_loss: 0.1014 - val_accuracy: 0.9876\n",
            "Epoch 19/25\n",
            "800/800 [==============================] - 92s 115ms/step - loss: 0.0815 - accuracy: 0.9716 - val_loss: 0.1426 - val_accuracy: 0.9809\n",
            "Epoch 20/25\n",
            "800/800 [==============================] - 92s 115ms/step - loss: 0.0710 - accuracy: 0.9749 - val_loss: 0.1140 - val_accuracy: 0.9843\n",
            "Epoch 21/25\n",
            "800/800 [==============================] - 91s 114ms/step - loss: 0.0685 - accuracy: 0.9762 - val_loss: 0.1220 - val_accuracy: 0.9849\n",
            "Epoch 22/25\n",
            "800/800 [==============================] - 91s 114ms/step - loss: 0.0711 - accuracy: 0.9752 - val_loss: 0.1164 - val_accuracy: 0.9849\n",
            "Epoch 23/25\n",
            "800/800 [==============================] - 92s 115ms/step - loss: 0.0657 - accuracy: 0.9772 - val_loss: 0.0997 - val_accuracy: 0.9862\n",
            "Epoch 24/25\n",
            "800/800 [==============================] - 92s 114ms/step - loss: 0.0618 - accuracy: 0.9787 - val_loss: 0.0962 - val_accuracy: 0.9854\n",
            "Epoch 25/25\n",
            "800/800 [==============================] - 91s 114ms/step - loss: 0.0548 - accuracy: 0.9814 - val_loss: 0.0900 - val_accuracy: 0.9901\n"
          ],
          "name": "stdout"
        }
      ]
    },
    {
      "cell_type": "code",
      "metadata": {
        "id": "NBqZGZrhjS0G",
        "colab_type": "code",
        "colab": {}
      },
      "source": [
        "import h5py"
      ],
      "execution_count": 0,
      "outputs": []
    },
    {
      "cell_type": "code",
      "metadata": {
        "id": "yhmNhYvmOVzp",
        "colab_type": "code",
        "colab": {}
      },
      "source": [
        "import numpy as np\n",
        "import pandas as pd\n",
        "import matplotlib.pyplot as plt\n",
        "import sys, os"
      ],
      "execution_count": 0,
      "outputs": []
    },
    {
      "cell_type": "code",
      "metadata": {
        "id": "dA9JvBvMQ2lj",
        "colab_type": "code",
        "colab": {}
      },
      "source": [
        "from pydrive.auth import GoogleAuth\n",
        "from pydrive.drive import GoogleDrive\n",
        "from google.colab import auth\n",
        "from oauth2client.client import GoogleCredentials"
      ],
      "execution_count": 0,
      "outputs": []
    },
    {
      "cell_type": "code",
      "metadata": {
        "id": "P9yTvu7qRB9I",
        "colab_type": "code",
        "colab": {}
      },
      "source": [
        "auth.authenticate_user()\n",
        "gauth = GoogleAuth()\n",
        "gauth.credentials = GoogleCredentials.get_application_default()\n",
        "drive = GoogleDrive(gauth)"
      ],
      "execution_count": 0,
      "outputs": []
    },
    {
      "cell_type": "code",
      "metadata": {
        "id": "n8T4mlgftaw8",
        "colab_type": "code",
        "colab": {}
      },
      "source": [
        "classifier.save('model.h5')\n",
        "model_file = drive.CreateFile({'title' : 'model.h5'}) \n",
        "model_file.SetContentFile('model.h5')\n",
        "model_file.Upload()"
      ],
      "execution_count": 0,
      "outputs": []
    },
    {
      "cell_type": "code",
      "metadata": {
        "id": "HXxPwS7it067",
        "colab_type": "code",
        "outputId": "2d67c364-9458-4968-9def-b2f61eec2ea0",
        "colab": {
          "base_uri": "https://localhost:8080/",
          "height": 34
        }
      },
      "source": [
        "print(model.history.keys())"
      ],
      "execution_count": 0,
      "outputs": [
        {
          "output_type": "stream",
          "text": [
            "dict_keys(['loss', 'accuracy', 'val_loss', 'val_accuracy'])\n"
          ],
          "name": "stdout"
        }
      ]
    },
    {
      "cell_type": "code",
      "metadata": {
        "id": "51G38aHlRvt0",
        "colab_type": "code",
        "outputId": "26a8d4d6-beb0-4ceb-f8de-c13b8fa445f5",
        "colab": {
          "base_uri": "https://localhost:8080/",
          "height": 295
        }
      },
      "source": [
        "plt.plot(model.history['accuracy'])\n",
        "plt.plot(model.history['val_accuracy'])\n",
        "plt.title('model accuracy')\n",
        "plt.ylabel('accuracy')\n",
        "plt.xlabel('epoch')\n",
        "plt.legend(['train', 'test'], loc='upper left')\n",
        "plt.show()"
      ],
      "execution_count": 0,
      "outputs": [
        {
          "output_type": "display_data",
          "data": {
            "image/png": "[encoded data removed]",
            "text/plain": [
              "<Figure size 432x288 with 1 Axes>"
            ]
          },
          "metadata": {
            "tags": [],
            "needs_background": "light"
          }
        }
      ]
    },
    {
      "cell_type": "code",
      "metadata": {
        "id": "R_3Rq-4XTUIj",
        "colab_type": "code",
        "outputId": "f1e825be-a4df-4eed-e164-ed612b53187f",
        "colab": {
          "base_uri": "https://localhost:8080/",
          "height": 295
        }
      },
      "source": [
        "plt.plot(model.history['loss'])\n",
        "plt.plot(model.history['val_loss'])\n",
        "plt.title('model loss')\n",
        "plt.ylabel('loss')\n",
        "plt.xlabel('epoch')\n",
        "plt.legend(['train', 'test'], loc='upper left')\n",
        "plt.show()"
      ],
      "execution_count": 0,
      "outputs": [
        {
          "output_type": "display_data",
          "data": {
            "image/png": "[encoded data removed]",
            "text/plain": [
              "<Figure size 432x288 with 1 Axes>"
            ]
          },
          "metadata": {
            "tags": [],
            "needs_background": "light"
          }
        }
      ]
    },
    {
      "cell_type": "code",
      "metadata": {
        "id": "6ERHM_TlXgzd",
        "colab_type": "code",
        "colab": {}
      },
      "source": [
        "single= '/tmp/mydata/test_set/A/1.png'"
      ],
      "execution_count": 0,
      "outputs": []
    },
    {
      "cell_type": "code",
      "metadata": {
        "id": "uLw7VaPTYUB7",
        "colab_type": "code",
        "outputId": "6c887c90-8dbc-4567-e97e-5caf6a6b819f",
        "colab": {
          "base_uri": "https://localhost:8080/",
          "height": 81
        }
      },
      "source": [
        "from tensorflow.keras.preprocessing import image\n",
        "test_image = image.load_img(single,target_size=(64, 64))\n",
        "test_image"
      ],
      "execution_count": 0,
      "outputs": [
        {
          "output_type": "execute_result",
          "data": {
            "image/png": "[encoded data removed]",
            "text/plain": [
              "<PIL.Image.Image image mode=RGB size=64x64 at 0x7FCFF2275080>"
            ]
          },
          "metadata": {
            "tags": []
          },
          "execution_count": 34
        }
      ]
    },
    {
      "cell_type": "code",
      "metadata": {
        "id": "CNKu3mdjbycL",
        "colab_type": "code",
        "colab": {}
      },
      "source": [
        "test_image = image.img_to_array(test_image)\n",
        "test_image = np.expand_dims(test_image, axis = 0)\n",
        "result = classifier.predict(test_image)"
      ],
      "execution_count": 0,
      "outputs": []
    },
    {
      "cell_type": "code",
      "metadata": {
        "id": "PJsovH5pYb_U",
        "colab_type": "code",
        "outputId": "21426536-b6f3-44f9-ddca-2cf84b9e086b",
        "colab": {
          "base_uri": "https://localhost:8080/",
          "height": 51
        }
      },
      "source": [
        "result"
      ],
      "execution_count": 0,
      "outputs": [
        {
          "output_type": "execute_result",
          "data": {
            "text/plain": [
              "array([[1., 0., 0., 0., 0., 0., 0., 0., 0., 0., 0., 0., 0., 0., 0., 0.,\n",
              "        0., 0., 0., 0., 0., 0., 0., 0., 0., 0.]], dtype=float32)"
            ]
          },
          "metadata": {
            "tags": []
          },
          "execution_count": 36
        }
      ]
    },
    {
      "cell_type": "code",
      "metadata": {
        "id": "ZvPTIb2GZqBI",
        "colab_type": "code",
        "outputId": "0f57d914-56d3-4d28-8966-4eb935503bef",
        "colab": {
          "base_uri": "https://localhost:8080/",
          "height": 493
        }
      },
      "source": [
        "classifier.summary()"
      ],
      "execution_count": 0,
      "outputs": [
        {
          "output_type": "stream",
          "text": [
            "Model: \"sequential\"\n",
            "_________________________________________________________________\n",
            "Layer (type)                 Output Shape              Param #   \n",
            "=================================================================\n",
            "conv2d (Conv2D)              (None, 62, 62, 32)        896       \n",
            "_________________________________________________________________\n",
            "max_pooling2d (MaxPooling2D) (None, 31, 31, 32)        0         \n",
            "_________________________________________________________________\n",
            "conv2d_1 (Conv2D)            (None, 29, 29, 32)        9248      \n",
            "_________________________________________________________________\n",
            "max_pooling2d_1 (MaxPooling2 (None, 14, 14, 32)        0         \n",
            "_________________________________________________________________\n",
            "conv2d_2 (Conv2D)            (None, 12, 12, 64)        18496     \n",
            "_________________________________________________________________\n",
            "max_pooling2d_2 (MaxPooling2 (None, 6, 6, 64)          0         \n",
            "_________________________________________________________________\n",
            "flatten (Flatten)            (None, 2304)              0         \n",
            "_________________________________________________________________\n",
            "dense (Dense)                (None, 256)               590080    \n",
            "_________________________________________________________________\n",
            "dropout (Dropout)            (None, 256)               0         \n",
            "_________________________________________________________________\n",
            "dense_1 (Dense)              (None, 26)                6682      \n",
            "=================================================================\n",
            "Total params: 625,402\n",
            "Trainable params: 625,402\n",
            "Non-trainable params: 0\n",
            "_________________________________________________________________\n"
          ],
          "name": "stdout"
        }
      ]
    },
    {
      "cell_type": "code",
      "metadata": {
        "id": "o3Hm9jaLaNYX",
        "colab_type": "code",
        "colab": {}
      },
      "source": [
        ""
      ],
      "execution_count": 0,
      "outputs": []
    }
  ]
}